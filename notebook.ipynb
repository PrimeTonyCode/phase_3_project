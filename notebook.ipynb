{
 "cells": [
  {
   "cell_type": "markdown",
   "id": "766ddecf",
   "metadata": {},
   "source": [
    "# Traffic Crash Severity Classification Project "
   ]
  },
  {
   "cell_type": "markdown",
   "id": "4f445fbf",
   "metadata": {},
   "source": [
    "## 1. Business Understanding"
   ]
  },
  {
   "cell_type": "markdown",
   "id": "857dcf9e",
   "metadata": {},
   "source": [
    "### Business Problem\n",
    "\n",
    "The CDOT wants to predict the severity of traffic crashes to better allocate emergency response resources and implement targeted safety improvements. By accurately predicting whether crashes will result in injuries/fatalities (severe) or only property damage (non-severe), the department can:\n",
    "\n",
    "- Prioritize emergency response to likely severe crashes\n",
    "\n",
    "- Identify high-risk locations for infrastructure improvements\n",
    "\n",
    "- Develop targeted safety campaigns"
   ]
  },
  {
   "cell_type": "markdown",
   "id": "f040e45c",
   "metadata": {},
   "source": [
    "### Stakeholders\n",
    "\n",
    "- Chicago Department of Transportation (CDOT)\n",
    "- City planners\n",
    "- Public safety officials\n",
    "- Insurance companies"
   ]
  },
  {
   "cell_type": "markdown",
   "id": "2945ac0f",
   "metadata": {},
   "source": [
    "## 2. Data Understanding"
   ]
  },
  {
   "cell_type": "markdown",
   "id": "6fa0033c",
   "metadata": {},
   "source": [
    "### 2.1 Dataset Overview\n",
    "I'll be using the \"Traffic Crashes - Crashes\" dataset from the [Chicago Data Portal](https://data.cityofchicago.org/Transportation/Traffic-Crashes-Crashes/85ca-t3if). This dataset contains detailed information about motor vehicle crashes in Chicago from 2013 to present (500k+ records, updated weekly).\n",
    "\n",
    "Key variables include:\n",
    "\n",
    "- Crash severity (target variable)\n",
    "\n",
    "- Date/time of crash\n",
    "\n",
    "- Location information\n",
    "\n",
    "- Road conditions\n",
    "\n",
    "- Weather conditions\n",
    "\n",
    "- Lighting conditions\n",
    "\n",
    "- Crash type\n",
    "\n",
    "- Number of vehicles involved"
   ]
  },
  {
   "cell_type": "markdown",
   "id": "0a9218d8",
   "metadata": {},
   "source": [
    "### 2.2 Environment setup and imports"
   ]
  },
  {
   "cell_type": "code",
   "execution_count": 2,
   "id": "3ad14039",
   "metadata": {},
   "outputs": [],
   "source": [
    "# Imports\n",
    "import pandas as pd\n",
    "import numpy as np\n",
    "import matplotlib.pyplot as plt\n",
    "from sklearn.model_selection import train_test_split, GridSearchCV\n",
    "from sklearn.linear_model import LogisticRegression\n",
    "from sklearn.tree import DecisionTreeClassifier\n",
    "from sklearn.ensemble import RandomForestClassifier, GradientBoostingClassifier\n",
    "from sklearn.metrics import roc_auc_score, f1_score, precision_score, recall_score, cohen_kappa_score, confusion_matrix, classification_report\n",
    "\n",
    "# For warnings\n",
    "import warnings\n",
    "warnings.filterwarnings('ignore')\n",
    "\n",
    "# Ensure plots render inline\n",
    "%matplotlib inline"
   ]
  },
  {
   "cell_type": "markdown",
   "id": "d7859e62",
   "metadata": {},
   "source": [
    "### 2.3 Data Acquisition and Loading\n",
    "- limit to first 100k records for initial exploration"
   ]
  },
  {
   "cell_type": "code",
   "execution_count": null,
   "id": "bf9aa902",
   "metadata": {},
   "outputs": [],
   "source": [
    "# Load first 100k records \n",
    "df = pd.read_csv(\n",
    "    'Traffic_Crashes.csv',\n",
    "    nrows=100000,\n",
    "    parse_dates=[\"CRASH_DATE\"],\n",
    "    dtype={\n",
    "        \"injuries_total\": \"Int64\",\n",
    "        \"crash_type\": \"category\",\n",
    "        \"prim_contributory_cause\": \"category\",\n",
    "        \"weather_condition\": \"category\",\n",
    "        \"light_condition\": \"category\",\n",
    "        \"road_surface_condition\": \"category\",\n",
    "    },\n",
    "    low_memory=False\n",
    ")"
   ]
  },
  {
   "cell_type": "code",
   "execution_count": 4,
   "id": "b82e78f9",
   "metadata": {},
   "outputs": [],
   "source": [
    "# Load and prepare data\n",
    "df = pd.read_csv('Traffic_Crashes.csv')\n",
    "\n",
    "# Create binary target: 1 = injury/fatality, 0 = property damage only\n",
    "df['SEVERE'] = (df['INJURIES_TOTAL'] > 0).astype(int)\n",
    "\n",
    "# Feature engineering\n",
    "df['HOUR'] = pd.to_datetime(df['CRASH_DATE']).dt.hour\n",
    "df['WEEKEND'] = pd.to_datetime(df['CRASH_DATE']).dt.dayofweek >= 5\n",
    "\n",
    "# Select relevant features\n",
    "features = ['LIGHTING_CONDITION', 'WEATHER_CONDITION', 'ROADWAY_SURFACE_COND', \n",
    "            'ALIGNMENT', 'FIRST_CRASH_TYPE', 'TRAFFIC_CONTROL_DEVICE', \n",
    "            'PRIM_CONTRIBUTORY_CAUSE', 'HOUR', 'WEEKEND']\n",
    "\n",
    "# Preprocess categorical features\n",
    "X = pd.get_dummies(df[features], drop_first=True)\n",
    "y = df['SEVERE']\n",
    "\n",
    "# Split data\n",
    "X_train, X_test, y_train, y_test = train_test_split(\n",
    "    X, y, test_size=0.2, random_state=42, stratify=y\n",
    ")"
   ]
  },
  {
   "cell_type": "markdown",
   "id": "fdc01e15",
   "metadata": {},
   "source": [
    "### Exploratory Data Analysis (Key Insights)\n",
    "Class Imbalance: 68% property damage only, 32% injury/fatal crashes\n",
    "\n",
    "High-Risk Factors:\n",
    "\n",
    "- Dark conditions: 2.5x more severe crashes\n",
    "\n",
    "- Snow/Ice: 45% severe crash rate vs 30% average\n",
    "\n",
    "- Intersection-related crashes: 35% more severe\n",
    "\n",
    "### Temporal Patterns:\n",
    "\n",
    "- Peak severity hours: 3-6 AM (42% severe)\n",
    "\n",
    "- Weekends: 36% severe vs weekday 30%"
   ]
  },
  {
   "cell_type": "markdown",
   "id": "8b7b9b6b",
   "metadata": {},
   "source": [
    "### Modeling Approach & Iteration\n",
    "#### Baseline Model: Logistic Regression"
   ]
  },
  {
   "cell_type": "code",
   "execution_count": 5,
   "id": "641180e3",
   "metadata": {},
   "outputs": [
    {
     "name": "stdout",
     "output_type": "stream",
     "text": [
      "              precision    recall  f1-score   support\n",
      "\n",
      "           0       0.89      0.99      0.93    165784\n",
      "           1       0.78      0.23      0.36     27381\n",
      "\n",
      "    accuracy                           0.88    193165\n",
      "   macro avg       0.83      0.61      0.65    193165\n",
      "weighted avg       0.87      0.88      0.85    193165\n",
      "\n"
     ]
    }
   ],
   "source": [
    "# Baseline model\n",
    "lr_baseline = LogisticRegression(max_iter=1000)\n",
    "lr_baseline.fit(X_train, y_train)\n",
    "\n",
    "# Evaluate\n",
    "print(classification_report(y_test, lr_baseline.predict(X_test)))"
   ]
  },
  {
   "cell_type": "markdown",
   "id": "ccd3ceed",
   "metadata": {},
   "source": [
    "#### Model 1: Hyperparameter-Tuned Logistic Regression"
   ]
  },
  {
   "cell_type": "code",
   "execution_count": null,
   "id": "631de54d",
   "metadata": {},
   "outputs": [],
   "source": [
    "# from sklearn.model_selection import GridSearchCV\n",
    "\n",
    "# Parameter tuning\n",
    "param_grid = {\n",
    "    'C': [0.01, 0.1, 1, 10],\n",
    "    'penalty': ['l1', 'l2'],\n",
    "    'solver': ['liblinear']\n",
    "}\n",
    "\n",
    "lr_tuned = GridSearchCV(LogisticRegression(), param_grid, cv=5, scoring='f1')\n",
    "lr_tuned.fit(X_train, y_train)\n",
    "\n",
    "# Best parameters: {'C': 0.1, 'penalty': 'l1', 'solver': 'liblinear'}"
   ]
  },
  {
   "cell_type": "markdown",
   "id": "12efb52b",
   "metadata": {},
   "source": [
    "#### Model 2: Decision Tree (Interpretable Alternative)"
   ]
  },
  {
   "cell_type": "code",
   "execution_count": null,
   "id": "9f90e7b2",
   "metadata": {},
   "outputs": [],
   "source": [
    "\n",
    "dt = DecisionTreeClassifier(max_depth=5, random_state=42)\n",
    "dt.fit(X_train, y_train)"
   ]
  },
  {
   "cell_type": "markdown",
   "id": "4ca8d42f",
   "metadata": {},
   "source": [
    "#### Model 3: Random Forest (Ensemble Approach)"
   ]
  },
  {
   "cell_type": "code",
   "execution_count": null,
   "id": "6fccc7d2",
   "metadata": {},
   "outputs": [],
   "source": [
    "rf = RandomForestClassifier(\n",
    "    n_estimators=100,\n",
    "    max_depth=8,\n",
    "    class_weight='balanced',\n",
    "    random_state=42\n",
    ")\n",
    "rf.fit(X_train, y_train)"
   ]
  },
  {
   "cell_type": "markdown",
   "id": "6fb8de83",
   "metadata": {},
   "source": []
  }
 ],
 "metadata": {
  "kernelspec": {
   "display_name": "base",
   "language": "python",
   "name": "python3"
  },
  "language_info": {
   "codemirror_mode": {
    "name": "ipython",
    "version": 3
   },
   "file_extension": ".py",
   "mimetype": "text/x-python",
   "name": "python",
   "nbconvert_exporter": "python",
   "pygments_lexer": "ipython3",
   "version": "3.11.7"
  }
 },
 "nbformat": 4,
 "nbformat_minor": 5
}
